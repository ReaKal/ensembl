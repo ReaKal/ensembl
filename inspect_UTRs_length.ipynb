{
  "nbformat": 4,
  "nbformat_minor": 0,
  "metadata": {
    "colab": {
      "provenance": []
    },
    "kernelspec": {
      "name": "python3",
      "display_name": "Python 3"
    },
    "language_info": {
      "name": "python"
    }
  },
  "cells": [
    {
      "cell_type": "code",
      "execution_count": 1,
      "metadata": {
        "id": "TPbH32YIUfum"
      },
      "outputs": [],
      "source": [
        "import pandas as pd"
      ]
    },
    {
      "cell_type": "code",
      "source": [
        "human_genes = pd.read_csv(\"human_protein_coding_genes_havana.txt\")\n",
        "mouse_genes = pd.read_csv(\"mouse_protein_coding_genes_havana.txt\")"
      ],
      "metadata": {
        "colab": {
          "base_uri": "https://localhost:8080/"
        },
        "id": "TlKP3-enUju8",
        "outputId": "23b6b5a1-2e97-442f-9992-d3183339fba3"
      },
      "execution_count": 11,
      "outputs": [
        {
          "output_type": "stream",
          "name": "stderr",
          "text": [
            "<ipython-input-11-61ae029566bf>:1: DtypeWarning: Columns (6) have mixed types. Specify dtype option on import or set low_memory=False.\n",
            "  human_genes = pd.read_csv(\"human_protein_coding_genes_havana.txt\")\n"
          ]
        }
      ]
    },
    {
      "cell_type": "markdown",
      "source": [
        "Select the furthest UTR boundary for every gene for human and mouse. There are 16573 human genes and 945 mouse genes in the Havana dataset."
      ],
      "metadata": {
        "id": "g7_Pv39BdLzF"
      }
    },
    {
      "cell_type": "code",
      "source": [
        "human_genes_utrs = human_genes.groupby([\"Gene stable ID\"]).agg(\n",
        "    utr5_start=(\"5' UTR start\", min),\n",
        "    utr5_end=(\"5' UTR end\", max),\n",
        "    utr3_start=(\"3' UTR start\", min),\n",
        "    utr3_end=(\"3' UTR end\", max)\n",
        ")\n",
        "\n",
        "mouse_genes_utrs = mouse_genes.groupby([\"Gene stable ID\"]).agg(\n",
        "    utr5_start=(\"5' UTR start\", min),\n",
        "    utr5_end=(\"5' UTR end\", max),\n",
        "    utr3_start=(\"3' UTR start\", min),\n",
        "    utr3_end=(\"3' UTR end\", max)\n",
        ")\n",
        "\n",
        "print(len(human_genes_utrs))\n",
        "print(len(mouse_genes_utrs))"
      ],
      "metadata": {
        "colab": {
          "base_uri": "https://localhost:8080/"
        },
        "id": "nwzOgt4GU9Hl",
        "outputId": "051b4de9-6b3c-4714-9a8f-1aa68f8ccb08"
      },
      "execution_count": 12,
      "outputs": [
        {
          "output_type": "stream",
          "name": "stdout",
          "text": [
            "16573\n",
            "945\n"
          ]
        }
      ]
    },
    {
      "cell_type": "markdown",
      "source": [
        "Almost 0.26% of the human genes in the Havana dataset don't have annotated UTRs boundaries."
      ],
      "metadata": {
        "id": "38zD3t0GZTyT"
      }
    },
    {
      "cell_type": "code",
      "source": [
        "human_genes_utrs.isnull().sum() / human_genes_utrs.shape[0]"
      ],
      "metadata": {
        "colab": {
          "base_uri": "https://localhost:8080/"
        },
        "id": "UtF3UcHUYQmt",
        "outputId": "9b7b6d68-e0a6-450c-be4c-b31d4c8af7b2"
      },
      "execution_count": 4,
      "outputs": [
        {
          "output_type": "execute_result",
          "data": {
            "text/plain": [
              "utr5_start    0.164225\n",
              "utr5_end      0.164225\n",
              "utr3_start    0.159946\n",
              "utr3_end      0.159946\n",
              "dtype: float64"
            ]
          },
          "metadata": {},
          "execution_count": 4
        }
      ]
    },
    {
      "cell_type": "markdown",
      "source": [
        "Almost 24% of the mouse genes in the Havana dataset don't have annotated 5' UTR boundaries and almost 19% of mouse genes in the Havana dataset don't have annotated 19% boundaries."
      ],
      "metadata": {
        "id": "005aNhpUfGsq"
      }
    },
    {
      "cell_type": "code",
      "source": [
        "mouse_genes_utrs.isnull().sum() / mouse_genes_utrs.shape[0]"
      ],
      "metadata": {
        "colab": {
          "base_uri": "https://localhost:8080/"
        },
        "id": "DErbo162bvk4",
        "outputId": "20c34a21-7a83-43bf-b78f-29f6293bee2c"
      },
      "execution_count": 5,
      "outputs": [
        {
          "output_type": "execute_result",
          "data": {
            "text/plain": [
              "utr5_start    0.249735\n",
              "utr5_end      0.249735\n",
              "utr3_start    0.198942\n",
              "utr3_end      0.198942\n",
              "dtype: float64"
            ]
          },
          "metadata": {},
          "execution_count": 5
        }
      ]
    },
    {
      "cell_type": "markdown",
      "source": [
        "Keep the genes with annotated UTRs boundaries."
      ],
      "metadata": {
        "id": "HNcglu9EfmoI"
      }
    },
    {
      "cell_type": "code",
      "source": [
        "human_genes_utrs = human_genes_utrs.dropna()"
      ],
      "metadata": {
        "id": "NwMA5-8KZJeS"
      },
      "execution_count": 6,
      "outputs": []
    },
    {
      "cell_type": "code",
      "source": [
        "mouse_genes_utrs = mouse_genes_utrs.dropna()"
      ],
      "metadata": {
        "id": "27jbhGy1b6zC"
      },
      "execution_count": 7,
      "outputs": []
    },
    {
      "cell_type": "markdown",
      "source": [
        "Calculate the length of the 3' UTR and 5' UTR for every gene."
      ],
      "metadata": {
        "id": "NTLQvqbHfrA4"
      }
    },
    {
      "cell_type": "code",
      "source": [
        "human_genes_utrs = human_genes_utrs.assign(\n",
        "    utr5_len = human_genes_utrs['utr5_end'] - human_genes_utrs['utr5_start'],\n",
        "    utr3_len = human_genes_utrs['utr3_end'] - human_genes_utrs['utr3_start']\n",
        ")\n",
        "\n",
        "mouse_genes_utrs = mouse_genes_utrs.assign(\n",
        "    utr5_len = mouse_genes_utrs['utr5_end'] - mouse_genes_utrs['utr5_start'],\n",
        "    utr3_len = mouse_genes_utrs['utr3_end'] - mouse_genes_utrs['utr3_start']\n",
        ")"
      ],
      "metadata": {
        "id": "d5l5UKtaZoJx"
      },
      "execution_count": 8,
      "outputs": []
    },
    {
      "cell_type": "markdown",
      "source": [
        "75% of the human protein-coding genes in the Havana dataset have 5' UTR length at most 6715 nucleotides. 75% of the human protein-coding genes in the Havana dataset have 3' UTR length at most 2120 nucleotides."
      ],
      "metadata": {
        "id": "5Au3ScUKfyQl"
      }
    },
    {
      "cell_type": "code",
      "source": [
        "human_genes_utrs[['utr5_len', 'utr3_len']].describe()\\\n",
        ".round(2)"
      ],
      "metadata": {
        "colab": {
          "base_uri": "https://localhost:8080/",
          "height": 300
        },
        "id": "qCTA4240ZpUE",
        "outputId": "5a3befdf-c555-4fe4-84f6-d8b8501f0ac2"
      },
      "execution_count": 9,
      "outputs": [
        {
          "output_type": "execute_result",
          "data": {
            "text/plain": [
              "         utr5_len    utr3_len\n",
              "count    12685.00    12685.00\n",
              "mean     12783.65     5199.40\n",
              "std      54112.14    29879.33\n",
              "min          0.00        0.00\n",
              "25%        124.00      337.00\n",
              "50%        877.00      887.00\n",
              "75%       6504.00     2113.00\n",
              "max    1948259.00  1501408.00"
            ],
            "text/html": [
              "\n",
              "  <div id=\"df-97bd3fa8-692c-4241-b7ab-d4a7cec5e888\">\n",
              "    <div class=\"colab-df-container\">\n",
              "      <div>\n",
              "<style scoped>\n",
              "    .dataframe tbody tr th:only-of-type {\n",
              "        vertical-align: middle;\n",
              "    }\n",
              "\n",
              "    .dataframe tbody tr th {\n",
              "        vertical-align: top;\n",
              "    }\n",
              "\n",
              "    .dataframe thead th {\n",
              "        text-align: right;\n",
              "    }\n",
              "</style>\n",
              "<table border=\"1\" class=\"dataframe\">\n",
              "  <thead>\n",
              "    <tr style=\"text-align: right;\">\n",
              "      <th></th>\n",
              "      <th>utr5_len</th>\n",
              "      <th>utr3_len</th>\n",
              "    </tr>\n",
              "  </thead>\n",
              "  <tbody>\n",
              "    <tr>\n",
              "      <th>count</th>\n",
              "      <td>12685.00</td>\n",
              "      <td>12685.00</td>\n",
              "    </tr>\n",
              "    <tr>\n",
              "      <th>mean</th>\n",
              "      <td>12783.65</td>\n",
              "      <td>5199.40</td>\n",
              "    </tr>\n",
              "    <tr>\n",
              "      <th>std</th>\n",
              "      <td>54112.14</td>\n",
              "      <td>29879.33</td>\n",
              "    </tr>\n",
              "    <tr>\n",
              "      <th>min</th>\n",
              "      <td>0.00</td>\n",
              "      <td>0.00</td>\n",
              "    </tr>\n",
              "    <tr>\n",
              "      <th>25%</th>\n",
              "      <td>124.00</td>\n",
              "      <td>337.00</td>\n",
              "    </tr>\n",
              "    <tr>\n",
              "      <th>50%</th>\n",
              "      <td>877.00</td>\n",
              "      <td>887.00</td>\n",
              "    </tr>\n",
              "    <tr>\n",
              "      <th>75%</th>\n",
              "      <td>6504.00</td>\n",
              "      <td>2113.00</td>\n",
              "    </tr>\n",
              "    <tr>\n",
              "      <th>max</th>\n",
              "      <td>1948259.00</td>\n",
              "      <td>1501408.00</td>\n",
              "    </tr>\n",
              "  </tbody>\n",
              "</table>\n",
              "</div>\n",
              "      <button class=\"colab-df-convert\" onclick=\"convertToInteractive('df-97bd3fa8-692c-4241-b7ab-d4a7cec5e888')\"\n",
              "              title=\"Convert this dataframe to an interactive table.\"\n",
              "              style=\"display:none;\">\n",
              "        \n",
              "  <svg xmlns=\"http://www.w3.org/2000/svg\" height=\"24px\"viewBox=\"0 0 24 24\"\n",
              "       width=\"24px\">\n",
              "    <path d=\"M0 0h24v24H0V0z\" fill=\"none\"/>\n",
              "    <path d=\"M18.56 5.44l.94 2.06.94-2.06 2.06-.94-2.06-.94-.94-2.06-.94 2.06-2.06.94zm-11 1L8.5 8.5l.94-2.06 2.06-.94-2.06-.94L8.5 2.5l-.94 2.06-2.06.94zm10 10l.94 2.06.94-2.06 2.06-.94-2.06-.94-.94-2.06-.94 2.06-2.06.94z\"/><path d=\"M17.41 7.96l-1.37-1.37c-.4-.4-.92-.59-1.43-.59-.52 0-1.04.2-1.43.59L10.3 9.45l-7.72 7.72c-.78.78-.78 2.05 0 2.83L4 21.41c.39.39.9.59 1.41.59.51 0 1.02-.2 1.41-.59l7.78-7.78 2.81-2.81c.8-.78.8-2.07 0-2.86zM5.41 20L4 18.59l7.72-7.72 1.47 1.35L5.41 20z\"/>\n",
              "  </svg>\n",
              "      </button>\n",
              "      \n",
              "  <style>\n",
              "    .colab-df-container {\n",
              "      display:flex;\n",
              "      flex-wrap:wrap;\n",
              "      gap: 12px;\n",
              "    }\n",
              "\n",
              "    .colab-df-convert {\n",
              "      background-color: #E8F0FE;\n",
              "      border: none;\n",
              "      border-radius: 50%;\n",
              "      cursor: pointer;\n",
              "      display: none;\n",
              "      fill: #1967D2;\n",
              "      height: 32px;\n",
              "      padding: 0 0 0 0;\n",
              "      width: 32px;\n",
              "    }\n",
              "\n",
              "    .colab-df-convert:hover {\n",
              "      background-color: #E2EBFA;\n",
              "      box-shadow: 0px 1px 2px rgba(60, 64, 67, 0.3), 0px 1px 3px 1px rgba(60, 64, 67, 0.15);\n",
              "      fill: #174EA6;\n",
              "    }\n",
              "\n",
              "    [theme=dark] .colab-df-convert {\n",
              "      background-color: #3B4455;\n",
              "      fill: #D2E3FC;\n",
              "    }\n",
              "\n",
              "    [theme=dark] .colab-df-convert:hover {\n",
              "      background-color: #434B5C;\n",
              "      box-shadow: 0px 1px 3px 1px rgba(0, 0, 0, 0.15);\n",
              "      filter: drop-shadow(0px 1px 2px rgba(0, 0, 0, 0.3));\n",
              "      fill: #FFFFFF;\n",
              "    }\n",
              "  </style>\n",
              "\n",
              "      <script>\n",
              "        const buttonEl =\n",
              "          document.querySelector('#df-97bd3fa8-692c-4241-b7ab-d4a7cec5e888 button.colab-df-convert');\n",
              "        buttonEl.style.display =\n",
              "          google.colab.kernel.accessAllowed ? 'block' : 'none';\n",
              "\n",
              "        async function convertToInteractive(key) {\n",
              "          const element = document.querySelector('#df-97bd3fa8-692c-4241-b7ab-d4a7cec5e888');\n",
              "          const dataTable =\n",
              "            await google.colab.kernel.invokeFunction('convertToInteractive',\n",
              "                                                     [key], {});\n",
              "          if (!dataTable) return;\n",
              "\n",
              "          const docLinkHtml = 'Like what you see? Visit the ' +\n",
              "            '<a target=\"_blank\" href=https://colab.research.google.com/notebooks/data_table.ipynb>data table notebook</a>'\n",
              "            + ' to learn more about interactive tables.';\n",
              "          element.innerHTML = '';\n",
              "          dataTable['output_type'] = 'display_data';\n",
              "          await google.colab.output.renderOutput(dataTable, element);\n",
              "          const docLink = document.createElement('div');\n",
              "          docLink.innerHTML = docLinkHtml;\n",
              "          element.appendChild(docLink);\n",
              "        }\n",
              "      </script>\n",
              "    </div>\n",
              "  </div>\n",
              "  "
            ]
          },
          "metadata": {},
          "execution_count": 9
        }
      ]
    },
    {
      "cell_type": "markdown",
      "source": [
        "75% of the mouse protein-coding genes in the Havana dataset have 5' UTR length at most 1860 nucleotides. 75% of the human protein-coding genes in the Havana dataset have 3' UTR length at most 2396 nucleotides. "
      ],
      "metadata": {
        "id": "vPMjwUx1g6U3"
      }
    },
    {
      "cell_type": "code",
      "source": [
        "mouse_genes_utrs[['utr5_len', 'utr3_len']].describe()\\\n",
        ".round(2)"
      ],
      "metadata": {
        "colab": {
          "base_uri": "https://localhost:8080/",
          "height": 300
        },
        "id": "Ito9uLzqakTa",
        "outputId": "28df0b37-876f-4ddd-c79a-3fe9350871fe"
      },
      "execution_count": 10,
      "outputs": [
        {
          "output_type": "execute_result",
          "data": {
            "text/plain": [
              "         utr5_len   utr3_len\n",
              "count      659.00     659.00\n",
              "mean      6635.72    6124.83\n",
              "std      61019.70   23821.47\n",
              "min          1.00       1.00\n",
              "25%         65.00     195.00\n",
              "50%        259.00     728.00\n",
              "75%       1860.50    2396.00\n",
              "max    1359782.00  374901.00"
            ],
            "text/html": [
              "\n",
              "  <div id=\"df-70d1ccba-2d1a-432d-84f0-0f9e479f837c\">\n",
              "    <div class=\"colab-df-container\">\n",
              "      <div>\n",
              "<style scoped>\n",
              "    .dataframe tbody tr th:only-of-type {\n",
              "        vertical-align: middle;\n",
              "    }\n",
              "\n",
              "    .dataframe tbody tr th {\n",
              "        vertical-align: top;\n",
              "    }\n",
              "\n",
              "    .dataframe thead th {\n",
              "        text-align: right;\n",
              "    }\n",
              "</style>\n",
              "<table border=\"1\" class=\"dataframe\">\n",
              "  <thead>\n",
              "    <tr style=\"text-align: right;\">\n",
              "      <th></th>\n",
              "      <th>utr5_len</th>\n",
              "      <th>utr3_len</th>\n",
              "    </tr>\n",
              "  </thead>\n",
              "  <tbody>\n",
              "    <tr>\n",
              "      <th>count</th>\n",
              "      <td>659.00</td>\n",
              "      <td>659.00</td>\n",
              "    </tr>\n",
              "    <tr>\n",
              "      <th>mean</th>\n",
              "      <td>6635.72</td>\n",
              "      <td>6124.83</td>\n",
              "    </tr>\n",
              "    <tr>\n",
              "      <th>std</th>\n",
              "      <td>61019.70</td>\n",
              "      <td>23821.47</td>\n",
              "    </tr>\n",
              "    <tr>\n",
              "      <th>min</th>\n",
              "      <td>1.00</td>\n",
              "      <td>1.00</td>\n",
              "    </tr>\n",
              "    <tr>\n",
              "      <th>25%</th>\n",
              "      <td>65.00</td>\n",
              "      <td>195.00</td>\n",
              "    </tr>\n",
              "    <tr>\n",
              "      <th>50%</th>\n",
              "      <td>259.00</td>\n",
              "      <td>728.00</td>\n",
              "    </tr>\n",
              "    <tr>\n",
              "      <th>75%</th>\n",
              "      <td>1860.50</td>\n",
              "      <td>2396.00</td>\n",
              "    </tr>\n",
              "    <tr>\n",
              "      <th>max</th>\n",
              "      <td>1359782.00</td>\n",
              "      <td>374901.00</td>\n",
              "    </tr>\n",
              "  </tbody>\n",
              "</table>\n",
              "</div>\n",
              "      <button class=\"colab-df-convert\" onclick=\"convertToInteractive('df-70d1ccba-2d1a-432d-84f0-0f9e479f837c')\"\n",
              "              title=\"Convert this dataframe to an interactive table.\"\n",
              "              style=\"display:none;\">\n",
              "        \n",
              "  <svg xmlns=\"http://www.w3.org/2000/svg\" height=\"24px\"viewBox=\"0 0 24 24\"\n",
              "       width=\"24px\">\n",
              "    <path d=\"M0 0h24v24H0V0z\" fill=\"none\"/>\n",
              "    <path d=\"M18.56 5.44l.94 2.06.94-2.06 2.06-.94-2.06-.94-.94-2.06-.94 2.06-2.06.94zm-11 1L8.5 8.5l.94-2.06 2.06-.94-2.06-.94L8.5 2.5l-.94 2.06-2.06.94zm10 10l.94 2.06.94-2.06 2.06-.94-2.06-.94-.94-2.06-.94 2.06-2.06.94z\"/><path d=\"M17.41 7.96l-1.37-1.37c-.4-.4-.92-.59-1.43-.59-.52 0-1.04.2-1.43.59L10.3 9.45l-7.72 7.72c-.78.78-.78 2.05 0 2.83L4 21.41c.39.39.9.59 1.41.59.51 0 1.02-.2 1.41-.59l7.78-7.78 2.81-2.81c.8-.78.8-2.07 0-2.86zM5.41 20L4 18.59l7.72-7.72 1.47 1.35L5.41 20z\"/>\n",
              "  </svg>\n",
              "      </button>\n",
              "      \n",
              "  <style>\n",
              "    .colab-df-container {\n",
              "      display:flex;\n",
              "      flex-wrap:wrap;\n",
              "      gap: 12px;\n",
              "    }\n",
              "\n",
              "    .colab-df-convert {\n",
              "      background-color: #E8F0FE;\n",
              "      border: none;\n",
              "      border-radius: 50%;\n",
              "      cursor: pointer;\n",
              "      display: none;\n",
              "      fill: #1967D2;\n",
              "      height: 32px;\n",
              "      padding: 0 0 0 0;\n",
              "      width: 32px;\n",
              "    }\n",
              "\n",
              "    .colab-df-convert:hover {\n",
              "      background-color: #E2EBFA;\n",
              "      box-shadow: 0px 1px 2px rgba(60, 64, 67, 0.3), 0px 1px 3px 1px rgba(60, 64, 67, 0.15);\n",
              "      fill: #174EA6;\n",
              "    }\n",
              "\n",
              "    [theme=dark] .colab-df-convert {\n",
              "      background-color: #3B4455;\n",
              "      fill: #D2E3FC;\n",
              "    }\n",
              "\n",
              "    [theme=dark] .colab-df-convert:hover {\n",
              "      background-color: #434B5C;\n",
              "      box-shadow: 0px 1px 3px 1px rgba(0, 0, 0, 0.15);\n",
              "      filter: drop-shadow(0px 1px 2px rgba(0, 0, 0, 0.3));\n",
              "      fill: #FFFFFF;\n",
              "    }\n",
              "  </style>\n",
              "\n",
              "      <script>\n",
              "        const buttonEl =\n",
              "          document.querySelector('#df-70d1ccba-2d1a-432d-84f0-0f9e479f837c button.colab-df-convert');\n",
              "        buttonEl.style.display =\n",
              "          google.colab.kernel.accessAllowed ? 'block' : 'none';\n",
              "\n",
              "        async function convertToInteractive(key) {\n",
              "          const element = document.querySelector('#df-70d1ccba-2d1a-432d-84f0-0f9e479f837c');\n",
              "          const dataTable =\n",
              "            await google.colab.kernel.invokeFunction('convertToInteractive',\n",
              "                                                     [key], {});\n",
              "          if (!dataTable) return;\n",
              "\n",
              "          const docLinkHtml = 'Like what you see? Visit the ' +\n",
              "            '<a target=\"_blank\" href=https://colab.research.google.com/notebooks/data_table.ipynb>data table notebook</a>'\n",
              "            + ' to learn more about interactive tables.';\n",
              "          element.innerHTML = '';\n",
              "          dataTable['output_type'] = 'display_data';\n",
              "          await google.colab.output.renderOutput(dataTable, element);\n",
              "          const docLink = document.createElement('div');\n",
              "          docLink.innerHTML = docLinkHtml;\n",
              "          element.appendChild(docLink);\n",
              "        }\n",
              "      </script>\n",
              "    </div>\n",
              "  </div>\n",
              "  "
            ]
          },
          "metadata": {},
          "execution_count": 10
        }
      ]
    },
    {
      "cell_type": "markdown",
      "source": [
        "For both human and mouse genes in Havana, the maximum length of UTRs reaches million of nucleotides!"
      ],
      "metadata": {
        "id": "BxNwVlWqjW0z"
      }
    }
  ]
}